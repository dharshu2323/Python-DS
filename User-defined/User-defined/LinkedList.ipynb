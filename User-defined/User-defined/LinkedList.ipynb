{
 "cells": [
  {
   "cell_type": "markdown",
   "id": "dd3db9f3",
   "metadata": {},
   "source": [
    "# LinkedList"
   ]
  },
  {
   "cell_type": "markdown",
   "id": "d4a51aa7",
   "metadata": {},
   "source": [
    "A linked list is a linear data structure, in which the elements are not stored at contiguous memory locations"
   ]
  },
  {
   "cell_type": "code",
   "execution_count": 1,
   "id": "c2a07948",
   "metadata": {},
   "outputs": [
    {
     "name": "stdout",
     "output_type": "stream",
     "text": [
      "1 -> 2 -> 3 -> 4 -> 5 -> None\n"
     ]
    }
   ],
   "source": [
    "class Node:\n",
    "    def __init__(self, data):\n",
    "        self.data = data\n",
    "        self.next = None\n",
    "\n",
    "class LinkedList:\n",
    "    def __init__(self):\n",
    "        self.head = None\n",
    "\n",
    "    def append(self, data):\n",
    "        new_node = Node(data)\n",
    "        if not self.head:\n",
    "            self.head = new_node\n",
    "            return\n",
    "\n",
    "        current = self.head\n",
    "        while current.next:\n",
    "            current = current.next\n",
    "\n",
    "        current.next = new_node\n",
    "\n",
    "    def print_list(self):\n",
    "        current = self.head\n",
    "        while current:\n",
    "            print(current.data, end=\" -> \")\n",
    "            current = current.next\n",
    "        print(\"None\")\n",
    "\n",
    "def main():\n",
    "    my_list = LinkedList()\n",
    "    my_list.append(1)\n",
    "    my_list.append(2)\n",
    "    my_list.append(3)\n",
    "    my_list.append(4)\n",
    "    my_list.append(5)\n",
    "\n",
    "    my_list.print_list()\n",
    "\n",
    "if __name__ == \"__main__\":\n",
    "    main()\n"
   ]
  },
  {
   "cell_type": "markdown",
   "id": "b229a029",
   "metadata": {},
   "source": [
    "# Array"
   ]
  },
  {
   "cell_type": "markdown",
   "id": "c77c8e29",
   "metadata": {},
   "source": [
    "Arrays are generally useful when you need to work with large amounts of numeric data, as they consume less memory compared to lists"
   ]
  },
  {
   "cell_type": "code",
   "execution_count": 2,
   "id": "26859042",
   "metadata": {},
   "outputs": [
    {
     "name": "stdout",
     "output_type": "stream",
     "text": [
      "Array: array('i', [1, 2, 3, 4, 5])\n",
      "First element: 1\n",
      "Last element: 5\n",
      "Modified array: array('i', [1, 10, 3, 4, 5])\n",
      "Length of the array: 5\n"
     ]
    }
   ],
   "source": [
    "from array import array\n",
    "\n",
    "def main():\n",
    "    my_array = array('i', [1, 2, 3, 4, 5])\n",
    "    print(\"Array:\", my_array)\n",
    "    print(\"First element:\", my_array[0])\n",
    "    print(\"Last element:\", my_array[-1]) \n",
    "    my_array[1] = 10\n",
    "    print(\"Modified array:\", my_array)\n",
    "    print(\"Length of the array:\", len(my_array))\n",
    "\n",
    "if __name__ == \"__main__\":\n",
    "    main()\n"
   ]
  },
  {
   "cell_type": "markdown",
   "id": "265fa11c",
   "metadata": {},
   "source": [
    "# Graph"
   ]
  },
  {
   "cell_type": "markdown",
   "id": "454c68e6",
   "metadata": {},
   "source": [
    "Graphs are powerful data structures with many applications in computer science and real-world scenarios. They can be used for various algorithms like searching, pathfinding, and network analysis."
   ]
  },
  {
   "cell_type": "code",
   "execution_count": 4,
   "id": "7f7deb90",
   "metadata": {},
   "outputs": [
    {
     "name": "stdout",
     "output_type": "stream",
     "text": [
      "A -> B, C\n",
      "B -> A, C, D\n",
      "C -> A, B, D\n",
      "D -> B, C\n"
     ]
    }
   ],
   "source": [
    "def print_graph(graph):\n",
    "    for vertex in graph:\n",
    "        neighbors = ', '.join(graph[vertex])\n",
    "        print(f\"{vertex} -> {neighbors}\")\n",
    "graph = {\n",
    "    'A': ['B', 'C'],\n",
    "    'B': ['A', 'C', 'D'],\n",
    "    'C': ['A', 'B', 'D'],\n",
    "    'D': ['B', 'C']\n",
    "}        \n",
    "print_graph(graph)"
   ]
  },
  {
   "cell_type": "markdown",
   "id": "227f35b9",
   "metadata": {},
   "source": [
    "# Stacks"
   ]
  },
  {
   "cell_type": "markdown",
   "id": "4f1ee24e",
   "metadata": {},
   "source": [
    "Stacks are widely used in various applications, such as function call management (using the call stack), expression evaluation, backtracking algorithms, and more, where last-in-first-out processing is needed."
   ]
  },
  {
   "cell_type": "code",
   "execution_count": 5,
   "id": "f272d1c9",
   "metadata": {},
   "outputs": [
    {
     "name": "stdout",
     "output_type": "stream",
     "text": [
      "Is the stack empty? True\n",
      "Stack size: 3\n",
      "Top element: 3\n",
      "Popped item: 3\n",
      "Stack size after pop: 2\n"
     ]
    }
   ],
   "source": [
    "class Stack:\n",
    "    def __init__(self):\n",
    "        self.items = []\n",
    "\n",
    "    def is_empty(self):\n",
    "        return len(self.items) == 0\n",
    "\n",
    "    def push(self, item):\n",
    "        self.items.append(item)\n",
    "\n",
    "    def pop(self):\n",
    "        if not self.is_empty():\n",
    "            return self.items.pop()\n",
    "        else:\n",
    "            return None\n",
    "\n",
    "    def peek(self):\n",
    "        if not self.is_empty():\n",
    "            return self.items[-1]\n",
    "        else:\n",
    "            return None\n",
    "\n",
    "    def size(self):\n",
    "        return len(self.items)\n",
    "\n",
    "def main():\n",
    "    s = Stack()\n",
    "    print(\"Is the stack empty?\", s.is_empty())\n",
    "\n",
    "    s.push(1)\n",
    "    s.push(2)\n",
    "    s.push(3)\n",
    "\n",
    "    print(\"Stack size:\", s.size())\n",
    "    print(\"Top element:\", s.peek())\n",
    "\n",
    "    item = s.pop()\n",
    "    if item:\n",
    "        print(\"Popped item:\", item)\n",
    "    else:\n",
    "        print(\"Stack is empty.\")\n",
    "\n",
    "    print(\"Stack size after pop:\", s.size())\n",
    "\n",
    "if __name__ == \"__main__\":\n",
    "    main()\n",
    "\n",
    "    "
   ]
  },
  {
   "cell_type": "markdown",
   "id": "d5081f4c",
   "metadata": {},
   "source": [
    "# Tree"
   ]
  },
  {
   "cell_type": "markdown",
   "id": "6c3884f0",
   "metadata": {},
   "source": [
    "A tree structure is used to represent a wide range of hierarchical data, such as file systems, organization charts, abstract syntax trees in programming languages, and more."
   ]
  },
  {
   "cell_type": "code",
   "execution_count": 6,
   "id": "c0598521",
   "metadata": {},
   "outputs": [
    {
     "name": "stdout",
     "output_type": "stream",
     "text": [
      "Inorder Traversal:\n",
      "4 2 5 1 6 3 7 "
     ]
    }
   ],
   "source": [
    "class TreeNode:\n",
    "    def __init__(self, data):\n",
    "        self.data = data\n",
    "        self.left = None\n",
    "        self.right = None\n",
    "\n",
    "def inorder_traversal(root):\n",
    "    if root is not None:\n",
    "        inorder_traversal(root.left)\n",
    "        print(root.data, end=\" \")\n",
    "        inorder_traversal(root.right)\n",
    "\n",
    "def main():\n",
    "    # Create the binary tree\n",
    "    root = TreeNode(1)\n",
    "    root.left = TreeNode(2)\n",
    "    root.right = TreeNode(3)\n",
    "    root.left.left = TreeNode(4)\n",
    "    root.left.right = TreeNode(5)\n",
    "    root.right.left = TreeNode(6)\n",
    "    root.right.right = TreeNode(7)\n",
    "\n",
    "    # Perform inorder traversal of the tree\n",
    "    print(\"Inorder Traversal:\")\n",
    "    inorder_traversal(root)\n",
    "\n",
    "if __name__ == \"__main__\":\n",
    "    main()\n"
   ]
  },
  {
   "cell_type": "markdown",
   "id": "52d195c5",
   "metadata": {},
   "source": [
    "# AVL"
   ]
  },
  {
   "cell_type": "markdown",
   "id": "173a75fd",
   "metadata": {},
   "source": [
    "AVL trees are a powerful self-balancing data structure that maintains efficient operations for searching, insertion, and deletion in logarithmic time complexity."
   ]
  },
  {
   "cell_type": "code",
   "execution_count": 7,
   "id": "5a4c3acb",
   "metadata": {},
   "outputs": [
    {
     "name": "stdout",
     "output_type": "stream",
     "text": [
      "Inorder Traversal of AVL Tree:\n",
      "-1 0 1 2 5 6 9 10 11 "
     ]
    }
   ],
   "source": [
    "class Node:\n",
    "    def __init__(self, data):\n",
    "        self.data = data\n",
    "        self.left = None\n",
    "        self.right = None\n",
    "        self.height = 1\n",
    "\n",
    "class AVLTree:\n",
    "    def __init__(self):\n",
    "        self.root = None\n",
    "\n",
    "    def height(self, node):\n",
    "        if node is None:\n",
    "            return 0\n",
    "        return node.height\n",
    "\n",
    "    def update_height(self, node):\n",
    "        node.height = 1 + max(self.height(node.left), self.height(node.right))\n",
    "\n",
    "    def get_balance(self, node):\n",
    "        if node is None:\n",
    "            return 0\n",
    "        return self.height(node.left) - self.height(node.right)\n",
    "\n",
    "    def right_rotate(self, y):\n",
    "        x = y.left\n",
    "        T2 = x.right\n",
    "\n",
    "        x.right = y\n",
    "        y.left = T2\n",
    "\n",
    "        self.update_height(y)\n",
    "        self.update_height(x)\n",
    "\n",
    "        return x\n",
    "\n",
    "    def left_rotate(self, x):\n",
    "        y = x.right\n",
    "        T2 = y.left\n",
    "\n",
    "        y.left = x\n",
    "        x.right = T2\n",
    "\n",
    "        self.update_height(x)\n",
    "        self.update_height(y)\n",
    "\n",
    "        return y\n",
    "\n",
    "    def insert(self, node, data):\n",
    "        if node is None:\n",
    "            return Node(data)\n",
    "\n",
    "        if data < node.data:\n",
    "            node.left = self.insert(node.left, data)\n",
    "        else:\n",
    "            node.right = self.insert(node.right, data)\n",
    "\n",
    "        self.update_height(node)\n",
    "\n",
    "        balance = self.get_balance(node)\n",
    "\n",
    "        if balance > 1:\n",
    "            if data < node.left.data:\n",
    "                return self.right_rotate(node)\n",
    "            else:\n",
    "                node.left = self.left_rotate(node.left)\n",
    "                return self.right_rotate(node)\n",
    "\n",
    "        if balance < -1:\n",
    "            if data > node.right.data:\n",
    "                return self.left_rotate(node)\n",
    "            else:\n",
    "                node.right = self.right_rotate(node.right)\n",
    "                return self.left_rotate(node)\n",
    "\n",
    "        return node\n",
    "\n",
    "    def insert_data(self, data):\n",
    "        self.root = self.insert(self.root, data)\n",
    "\n",
    "    def inorder_traversal(self, node):\n",
    "        if node is not None:\n",
    "            self.inorder_traversal(node.left)\n",
    "            print(node.data, end=\" \")\n",
    "            self.inorder_traversal(node.right)\n",
    "\n",
    "def main():\n",
    "    avl_tree = AVLTree()\n",
    "    data = [9, 5, 10, 0, 6, 11, -1, 1, 2]\n",
    "    for item in data:\n",
    "        avl_tree.insert_data(item)\n",
    "\n",
    "    print(\"Inorder Traversal of AVL Tree:\")\n",
    "    avl_tree.inorder_traversal(avl_tree.root)\n",
    "\n",
    "if __name__ == \"__main__\":\n",
    "    main()\n"
   ]
  },
  {
   "cell_type": "markdown",
   "id": "07f1e452",
   "metadata": {},
   "source": [
    "# Heap"
   ]
  },
  {
   "cell_type": "markdown",
   "id": "c9e6b012",
   "metadata": {},
   "source": [
    "A heap is typically implemented as an array, where each element in the array represents a node in the tree"
   ]
  },
  {
   "cell_type": "code",
   "execution_count": 8,
   "id": "70458c4e",
   "metadata": {},
   "outputs": [
    {
     "name": "stdout",
     "output_type": "stream",
     "text": [
      "Min Heap elements:\n",
      "1 2 3 4 5 6 7 8 "
     ]
    }
   ],
   "source": [
    "import heapq\n",
    "\n",
    "class MinHeap:\n",
    "    def __init__(self):\n",
    "        self.heap = []\n",
    "\n",
    "    def push(self, item):\n",
    "        heapq.heappush(self.heap, item)\n",
    "\n",
    "    def pop(self):\n",
    "        if self.heap:\n",
    "            return heapq.heappop(self.heap)\n",
    "        else:\n",
    "            return None\n",
    "\n",
    "    def peek(self):\n",
    "        if self.heap:\n",
    "            return self.heap[0]\n",
    "        else:\n",
    "            return None\n",
    "\n",
    "    def size(self):\n",
    "        return len(self.heap)\n",
    "\n",
    "def main():\n",
    "    heap = MinHeap()\n",
    "    elements = [5, 3, 8, 4, 2, 7, 6, 1]\n",
    "\n",
    "    for element in elements:\n",
    "        heap.push(element)\n",
    "\n",
    "    print(\"Min Heap elements:\")\n",
    "    while heap.size() > 0:\n",
    "        print(heap.pop(), end=\" \")\n",
    "\n",
    "if __name__ == \"__main__\":\n",
    "    main()\n"
   ]
  },
  {
   "cell_type": "markdown",
   "id": "ea29aae4",
   "metadata": {},
   "source": [
    "# HashMap"
   ]
  },
  {
   "cell_type": "markdown",
   "id": "8f25f696",
   "metadata": {},
   "source": [
    "A hash map (also known as a hash table) is a data structure that implements an associative array abstract data type. It stores key-value pairs and provides efficient lookup, insertion, and deletion operations based on the keys. "
   ]
  },
  {
   "cell_type": "code",
   "execution_count": 9,
   "id": "21211faa",
   "metadata": {},
   "outputs": [
    {
     "name": "stdout",
     "output_type": "stream",
     "text": [
      "Value for key 'one': 1\n",
      "Value for key 'two': 2\n",
      "Value for key 'four': None\n",
      "Deleting key 'two'\n",
      "Value for key 'two': None\n"
     ]
    }
   ],
   "source": [
    "class HashMap:\n",
    "    def __init__(self):\n",
    "        self.size = 10\n",
    "        self.map = [None] * self.size\n",
    "\n",
    "    def _get_hash(self, key):\n",
    "        return hash(key) % self.size\n",
    "\n",
    "    def add(self, key, value):\n",
    "        key_hash = self._get_hash(key)\n",
    "        key_value = [key, value]\n",
    "\n",
    "        if self.map[key_hash] is None:\n",
    "            self.map[key_hash] = list([key_value])\n",
    "            return True\n",
    "        else:\n",
    "            for pair in self.map[key_hash]:\n",
    "                if pair[0] == key:\n",
    "                    pair[1] = value\n",
    "                    return True\n",
    "            self.map[key_hash].append(key_value)\n",
    "            return True\n",
    "\n",
    "    def get(self, key):\n",
    "        key_hash = self._get_hash(key)\n",
    "        if self.map[key_hash] is not None:\n",
    "            for pair in self.map[key_hash]:\n",
    "                if pair[0] == key:\n",
    "                    return pair[1]\n",
    "        return None\n",
    "\n",
    "    def delete(self, key):\n",
    "        key_hash = self._get_hash(key)\n",
    "        if self.map[key_hash] is None:\n",
    "            return False\n",
    "        for i in range(len(self.map[key_hash])):\n",
    "            if self.map[key_hash][i][0] == key:\n",
    "                self.map[key_hash].pop(i)\n",
    "                return True\n",
    "        return False\n",
    "\n",
    "def main():\n",
    "    h = HashMap()\n",
    "    h.add('one', 1)\n",
    "    h.add('two', 2)\n",
    "    h.add('three', 3)\n",
    "\n",
    "    print(\"Value for key 'one':\", h.get('one'))\n",
    "    print(\"Value for key 'two':\", h.get('two'))\n",
    "    print(\"Value for key 'four':\", h.get('four'))\n",
    "\n",
    "    print(\"Deleting key 'two'\")\n",
    "    h.delete('two')\n",
    "    print(\"Value for key 'two':\", h.get('two'))\n",
    "\n",
    "if __name__ == \"__main__\":\n",
    "    main()\n"
   ]
  },
  {
   "cell_type": "code",
   "execution_count": null,
   "id": "154aadcd",
   "metadata": {},
   "outputs": [],
   "source": []
  }
 ],
 "metadata": {
  "kernelspec": {
   "display_name": "Python 3 (ipykernel)",
   "language": "python",
   "name": "python3"
  },
  "language_info": {
   "codemirror_mode": {
    "name": "ipython",
    "version": 3
   },
   "file_extension": ".py",
   "mimetype": "text/x-python",
   "name": "python",
   "nbconvert_exporter": "python",
   "pygments_lexer": "ipython3",
   "version": "3.9.7"
  }
 },
 "nbformat": 4,
 "nbformat_minor": 5
}
